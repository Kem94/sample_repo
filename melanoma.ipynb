{
 "cells": [
  {
   "cell_type": "markdown",
   "id": "249b7f6b",
   "metadata": {},
   "source": [
    "<h1>MELANOMA ANALYSIS</h1>"
   ]
  },
  {
   "cell_type": "markdown",
   "id": "63b243fb",
   "metadata": {},
   "source": [
    "### Load Necessary Libraries"
   ]
  },
  {
   "cell_type": "code",
   "execution_count": null,
   "id": "a7a692be",
   "metadata": {},
   "outputs": [],
   "source": []
  },
  {
   "cell_type": "code",
   "execution_count": 1,
   "id": "44c83960",
   "metadata": {},
   "outputs": [],
   "source": [
    "import pandas as pd\n",
    "import numpy as np\n",
    "import matplotlib.pyplot as plt\n",
    "import seaborn as sns"
   ]
  },
  {
   "cell_type": "code",
   "execution_count": 2,
   "id": "521e1e4b",
   "metadata": {},
   "outputs": [],
   "source": [
    "ml_data = pd.read_csv(\"Downloads/melanoma-2.csv\")"
   ]
  },
  {
   "cell_type": "markdown",
   "id": "eb7f0554",
   "metadata": {},
   "source": [
    "### Data Wrangling"
   ]
  },
  {
   "cell_type": "markdown",
   "id": "ba63e1e7",
   "metadata": {},
   "source": [
    "1. Data Preview (.head, .tail)\n",
    "\n",
    "2. Handle Missing Data (Drop or Input)\n",
    "\n",
    "3. Check Data Type"
   ]
  },
  {
   "cell_type": "code",
   "execution_count": 3,
   "id": "487f7ecb",
   "metadata": {},
   "outputs": [
    {
     "data": {
      "text/html": [
       "<div>\n",
       "<style scoped>\n",
       "    .dataframe tbody tr th:only-of-type {\n",
       "        vertical-align: middle;\n",
       "    }\n",
       "\n",
       "    .dataframe tbody tr th {\n",
       "        vertical-align: top;\n",
       "    }\n",
       "\n",
       "    .dataframe thead th {\n",
       "        text-align: right;\n",
       "    }\n",
       "</style>\n",
       "<table border=\"1\" class=\"dataframe\">\n",
       "  <thead>\n",
       "    <tr style=\"text-align: right;\">\n",
       "      <th></th>\n",
       "      <th>Unnamed: 0</th>\n",
       "      <th>time</th>\n",
       "      <th>status</th>\n",
       "      <th>sex</th>\n",
       "      <th>age</th>\n",
       "      <th>year</th>\n",
       "      <th>thickness</th>\n",
       "      <th>ulcer</th>\n",
       "    </tr>\n",
       "  </thead>\n",
       "  <tbody>\n",
       "    <tr>\n",
       "      <th>0</th>\n",
       "      <td>1</td>\n",
       "      <td>10</td>\n",
       "      <td>3</td>\n",
       "      <td>1</td>\n",
       "      <td>76</td>\n",
       "      <td>1972</td>\n",
       "      <td>6.76</td>\n",
       "      <td>1</td>\n",
       "    </tr>\n",
       "    <tr>\n",
       "      <th>1</th>\n",
       "      <td>2</td>\n",
       "      <td>30</td>\n",
       "      <td>3</td>\n",
       "      <td>1</td>\n",
       "      <td>56</td>\n",
       "      <td>1968</td>\n",
       "      <td>0.65</td>\n",
       "      <td>0</td>\n",
       "    </tr>\n",
       "    <tr>\n",
       "      <th>2</th>\n",
       "      <td>3</td>\n",
       "      <td>35</td>\n",
       "      <td>2</td>\n",
       "      <td>1</td>\n",
       "      <td>41</td>\n",
       "      <td>1977</td>\n",
       "      <td>1.34</td>\n",
       "      <td>0</td>\n",
       "    </tr>\n",
       "    <tr>\n",
       "      <th>3</th>\n",
       "      <td>4</td>\n",
       "      <td>99</td>\n",
       "      <td>3</td>\n",
       "      <td>0</td>\n",
       "      <td>71</td>\n",
       "      <td>1968</td>\n",
       "      <td>2.90</td>\n",
       "      <td>0</td>\n",
       "    </tr>\n",
       "    <tr>\n",
       "      <th>4</th>\n",
       "      <td>5</td>\n",
       "      <td>185</td>\n",
       "      <td>1</td>\n",
       "      <td>1</td>\n",
       "      <td>52</td>\n",
       "      <td>1965</td>\n",
       "      <td>12.08</td>\n",
       "      <td>1</td>\n",
       "    </tr>\n",
       "  </tbody>\n",
       "</table>\n",
       "</div>"
      ],
      "text/plain": [
       "   Unnamed: 0  time  status  sex  age  year  thickness  ulcer\n",
       "0           1    10       3    1   76  1972       6.76      1\n",
       "1           2    30       3    1   56  1968       0.65      0\n",
       "2           3    35       2    1   41  1977       1.34      0\n",
       "3           4    99       3    0   71  1968       2.90      0\n",
       "4           5   185       1    1   52  1965      12.08      1"
      ]
     },
     "execution_count": 3,
     "metadata": {},
     "output_type": "execute_result"
    }
   ],
   "source": [
    "ml_data.head()"
   ]
  },
  {
   "cell_type": "code",
   "execution_count": 4,
   "id": "3dafd371",
   "metadata": {},
   "outputs": [
    {
     "data": {
      "text/html": [
       "<div>\n",
       "<style scoped>\n",
       "    .dataframe tbody tr th:only-of-type {\n",
       "        vertical-align: middle;\n",
       "    }\n",
       "\n",
       "    .dataframe tbody tr th {\n",
       "        vertical-align: top;\n",
       "    }\n",
       "\n",
       "    .dataframe thead th {\n",
       "        text-align: right;\n",
       "    }\n",
       "</style>\n",
       "<table border=\"1\" class=\"dataframe\">\n",
       "  <thead>\n",
       "    <tr style=\"text-align: right;\">\n",
       "      <th></th>\n",
       "      <th>Unnamed: 0</th>\n",
       "      <th>time</th>\n",
       "      <th>status</th>\n",
       "      <th>sex</th>\n",
       "      <th>age</th>\n",
       "      <th>year</th>\n",
       "      <th>thickness</th>\n",
       "      <th>ulcer</th>\n",
       "    </tr>\n",
       "  </thead>\n",
       "  <tbody>\n",
       "    <tr>\n",
       "      <th>200</th>\n",
       "      <td>201</td>\n",
       "      <td>4492</td>\n",
       "      <td>2</td>\n",
       "      <td>1</td>\n",
       "      <td>29</td>\n",
       "      <td>1965</td>\n",
       "      <td>7.06</td>\n",
       "      <td>1</td>\n",
       "    </tr>\n",
       "    <tr>\n",
       "      <th>201</th>\n",
       "      <td>202</td>\n",
       "      <td>4668</td>\n",
       "      <td>2</td>\n",
       "      <td>0</td>\n",
       "      <td>40</td>\n",
       "      <td>1965</td>\n",
       "      <td>6.12</td>\n",
       "      <td>0</td>\n",
       "    </tr>\n",
       "    <tr>\n",
       "      <th>202</th>\n",
       "      <td>203</td>\n",
       "      <td>4688</td>\n",
       "      <td>2</td>\n",
       "      <td>0</td>\n",
       "      <td>42</td>\n",
       "      <td>1965</td>\n",
       "      <td>0.48</td>\n",
       "      <td>0</td>\n",
       "    </tr>\n",
       "    <tr>\n",
       "      <th>203</th>\n",
       "      <td>204</td>\n",
       "      <td>4926</td>\n",
       "      <td>2</td>\n",
       "      <td>0</td>\n",
       "      <td>50</td>\n",
       "      <td>1964</td>\n",
       "      <td>2.26</td>\n",
       "      <td>0</td>\n",
       "    </tr>\n",
       "    <tr>\n",
       "      <th>204</th>\n",
       "      <td>205</td>\n",
       "      <td>5565</td>\n",
       "      <td>2</td>\n",
       "      <td>0</td>\n",
       "      <td>41</td>\n",
       "      <td>1962</td>\n",
       "      <td>2.90</td>\n",
       "      <td>0</td>\n",
       "    </tr>\n",
       "  </tbody>\n",
       "</table>\n",
       "</div>"
      ],
      "text/plain": [
       "     Unnamed: 0  time  status  sex  age  year  thickness  ulcer\n",
       "200         201  4492       2    1   29  1965       7.06      1\n",
       "201         202  4668       2    0   40  1965       6.12      0\n",
       "202         203  4688       2    0   42  1965       0.48      0\n",
       "203         204  4926       2    0   50  1964       2.26      0\n",
       "204         205  5565       2    0   41  1962       2.90      0"
      ]
     },
     "execution_count": 4,
     "metadata": {},
     "output_type": "execute_result"
    }
   ],
   "source": [
    "ml_data.tail()"
   ]
  },
  {
   "cell_type": "code",
   "execution_count": 5,
   "id": "51fc80f7",
   "metadata": {},
   "outputs": [
    {
     "data": {
      "text/plain": [
       "Unnamed: 0      int64\n",
       "time            int64\n",
       "status          int64\n",
       "sex             int64\n",
       "age             int64\n",
       "year            int64\n",
       "thickness     float64\n",
       "ulcer           int64\n",
       "dtype: object"
      ]
     },
     "execution_count": 5,
     "metadata": {},
     "output_type": "execute_result"
    }
   ],
   "source": [
    "ml_data.dtypes"
   ]
  },
  {
   "cell_type": "code",
   "execution_count": 6,
   "id": "c80771c8",
   "metadata": {},
   "outputs": [
    {
     "data": {
      "text/plain": [
       "(205, 8)"
      ]
     },
     "execution_count": 6,
     "metadata": {},
     "output_type": "execute_result"
    }
   ],
   "source": [
    "ml_data.shape"
   ]
  },
  {
   "cell_type": "code",
   "execution_count": 7,
   "id": "31dada46",
   "metadata": {},
   "outputs": [
    {
     "data": {
      "text/plain": [
       "Unnamed: 0    0\n",
       "time          0\n",
       "status        0\n",
       "sex           0\n",
       "age           0\n",
       "year          0\n",
       "thickness     0\n",
       "ulcer         0\n",
       "dtype: int64"
      ]
     },
     "execution_count": 7,
     "metadata": {},
     "output_type": "execute_result"
    }
   ],
   "source": [
    "ml_data.isnull().sum()"
   ]
  },
  {
   "cell_type": "code",
   "execution_count": 8,
   "id": "5dea86bb",
   "metadata": {},
   "outputs": [
    {
     "data": {
      "text/html": [
       "<div>\n",
       "<style scoped>\n",
       "    .dataframe tbody tr th:only-of-type {\n",
       "        vertical-align: middle;\n",
       "    }\n",
       "\n",
       "    .dataframe tbody tr th {\n",
       "        vertical-align: top;\n",
       "    }\n",
       "\n",
       "    .dataframe thead th {\n",
       "        text-align: right;\n",
       "    }\n",
       "</style>\n",
       "<table border=\"1\" class=\"dataframe\">\n",
       "  <thead>\n",
       "    <tr style=\"text-align: right;\">\n",
       "      <th></th>\n",
       "      <th>Unnamed: 0</th>\n",
       "      <th>time</th>\n",
       "      <th>status</th>\n",
       "      <th>sex</th>\n",
       "      <th>age</th>\n",
       "      <th>year</th>\n",
       "      <th>thickness</th>\n",
       "      <th>ulcer</th>\n",
       "    </tr>\n",
       "  </thead>\n",
       "  <tbody>\n",
       "    <tr>\n",
       "      <th>0</th>\n",
       "      <td>False</td>\n",
       "      <td>False</td>\n",
       "      <td>False</td>\n",
       "      <td>False</td>\n",
       "      <td>False</td>\n",
       "      <td>False</td>\n",
       "      <td>False</td>\n",
       "      <td>False</td>\n",
       "    </tr>\n",
       "    <tr>\n",
       "      <th>1</th>\n",
       "      <td>False</td>\n",
       "      <td>False</td>\n",
       "      <td>False</td>\n",
       "      <td>False</td>\n",
       "      <td>False</td>\n",
       "      <td>False</td>\n",
       "      <td>False</td>\n",
       "      <td>False</td>\n",
       "    </tr>\n",
       "    <tr>\n",
       "      <th>2</th>\n",
       "      <td>False</td>\n",
       "      <td>False</td>\n",
       "      <td>False</td>\n",
       "      <td>False</td>\n",
       "      <td>False</td>\n",
       "      <td>False</td>\n",
       "      <td>False</td>\n",
       "      <td>False</td>\n",
       "    </tr>\n",
       "    <tr>\n",
       "      <th>3</th>\n",
       "      <td>False</td>\n",
       "      <td>False</td>\n",
       "      <td>False</td>\n",
       "      <td>False</td>\n",
       "      <td>False</td>\n",
       "      <td>False</td>\n",
       "      <td>False</td>\n",
       "      <td>False</td>\n",
       "    </tr>\n",
       "    <tr>\n",
       "      <th>4</th>\n",
       "      <td>False</td>\n",
       "      <td>False</td>\n",
       "      <td>False</td>\n",
       "      <td>False</td>\n",
       "      <td>False</td>\n",
       "      <td>False</td>\n",
       "      <td>False</td>\n",
       "      <td>False</td>\n",
       "    </tr>\n",
       "    <tr>\n",
       "      <th>...</th>\n",
       "      <td>...</td>\n",
       "      <td>...</td>\n",
       "      <td>...</td>\n",
       "      <td>...</td>\n",
       "      <td>...</td>\n",
       "      <td>...</td>\n",
       "      <td>...</td>\n",
       "      <td>...</td>\n",
       "    </tr>\n",
       "    <tr>\n",
       "      <th>200</th>\n",
       "      <td>False</td>\n",
       "      <td>False</td>\n",
       "      <td>False</td>\n",
       "      <td>False</td>\n",
       "      <td>False</td>\n",
       "      <td>False</td>\n",
       "      <td>False</td>\n",
       "      <td>False</td>\n",
       "    </tr>\n",
       "    <tr>\n",
       "      <th>201</th>\n",
       "      <td>False</td>\n",
       "      <td>False</td>\n",
       "      <td>False</td>\n",
       "      <td>False</td>\n",
       "      <td>False</td>\n",
       "      <td>False</td>\n",
       "      <td>False</td>\n",
       "      <td>False</td>\n",
       "    </tr>\n",
       "    <tr>\n",
       "      <th>202</th>\n",
       "      <td>False</td>\n",
       "      <td>False</td>\n",
       "      <td>False</td>\n",
       "      <td>False</td>\n",
       "      <td>False</td>\n",
       "      <td>False</td>\n",
       "      <td>False</td>\n",
       "      <td>False</td>\n",
       "    </tr>\n",
       "    <tr>\n",
       "      <th>203</th>\n",
       "      <td>False</td>\n",
       "      <td>False</td>\n",
       "      <td>False</td>\n",
       "      <td>False</td>\n",
       "      <td>False</td>\n",
       "      <td>False</td>\n",
       "      <td>False</td>\n",
       "      <td>False</td>\n",
       "    </tr>\n",
       "    <tr>\n",
       "      <th>204</th>\n",
       "      <td>False</td>\n",
       "      <td>False</td>\n",
       "      <td>False</td>\n",
       "      <td>False</td>\n",
       "      <td>False</td>\n",
       "      <td>False</td>\n",
       "      <td>False</td>\n",
       "      <td>False</td>\n",
       "    </tr>\n",
       "  </tbody>\n",
       "</table>\n",
       "<p>205 rows × 8 columns</p>\n",
       "</div>"
      ],
      "text/plain": [
       "     Unnamed: 0   time  status    sex    age   year  thickness  ulcer\n",
       "0         False  False   False  False  False  False      False  False\n",
       "1         False  False   False  False  False  False      False  False\n",
       "2         False  False   False  False  False  False      False  False\n",
       "3         False  False   False  False  False  False      False  False\n",
       "4         False  False   False  False  False  False      False  False\n",
       "..          ...    ...     ...    ...    ...    ...        ...    ...\n",
       "200       False  False   False  False  False  False      False  False\n",
       "201       False  False   False  False  False  False      False  False\n",
       "202       False  False   False  False  False  False      False  False\n",
       "203       False  False   False  False  False  False      False  False\n",
       "204       False  False   False  False  False  False      False  False\n",
       "\n",
       "[205 rows x 8 columns]"
      ]
     },
     "execution_count": 8,
     "metadata": {},
     "output_type": "execute_result"
    }
   ],
   "source": [
    "ml_data.isna()"
   ]
  },
  {
   "cell_type": "code",
   "execution_count": 9,
   "id": "9d27c2e5",
   "metadata": {},
   "outputs": [],
   "source": [
    "ml_data.drop([\"Unnamed: 0\"], axis = 1, inplace = True)"
   ]
  },
  {
   "cell_type": "code",
   "execution_count": 10,
   "id": "c739caca",
   "metadata": {},
   "outputs": [
    {
     "data": {
      "text/plain": [
       "Index(['time', 'status', 'sex', 'age', 'year', 'thickness', 'ulcer'], dtype='object')"
      ]
     },
     "execution_count": 10,
     "metadata": {},
     "output_type": "execute_result"
    }
   ],
   "source": [
    "ml_data.columns"
   ]
  },
  {
   "cell_type": "markdown",
   "id": "17e1a7a1",
   "metadata": {},
   "source": [
    "### Exploratory Data Analysis (EDA)"
   ]
  },
  {
   "cell_type": "markdown",
   "id": "535ef656",
   "metadata": {},
   "source": [
    "1. Summary Statistics (Desciptive statistics)\n",
    "\n",
    "2. Distribution\n",
    "\n",
    "3. Correlation"
   ]
  },
  {
   "cell_type": "code",
   "execution_count": 11,
   "id": "e1e21951",
   "metadata": {},
   "outputs": [
    {
     "data": {
      "text/html": [
       "<div>\n",
       "<style scoped>\n",
       "    .dataframe tbody tr th:only-of-type {\n",
       "        vertical-align: middle;\n",
       "    }\n",
       "\n",
       "    .dataframe tbody tr th {\n",
       "        vertical-align: top;\n",
       "    }\n",
       "\n",
       "    .dataframe thead th {\n",
       "        text-align: right;\n",
       "    }\n",
       "</style>\n",
       "<table border=\"1\" class=\"dataframe\">\n",
       "  <thead>\n",
       "    <tr style=\"text-align: right;\">\n",
       "      <th></th>\n",
       "      <th>time</th>\n",
       "      <th>status</th>\n",
       "      <th>sex</th>\n",
       "      <th>age</th>\n",
       "      <th>year</th>\n",
       "      <th>thickness</th>\n",
       "      <th>ulcer</th>\n",
       "    </tr>\n",
       "  </thead>\n",
       "  <tbody>\n",
       "    <tr>\n",
       "      <th>count</th>\n",
       "      <td>205.000000</td>\n",
       "      <td>205.000000</td>\n",
       "      <td>205.000000</td>\n",
       "      <td>205.000000</td>\n",
       "      <td>205.000000</td>\n",
       "      <td>205.000000</td>\n",
       "      <td>205.000000</td>\n",
       "    </tr>\n",
       "    <tr>\n",
       "      <th>mean</th>\n",
       "      <td>2152.800000</td>\n",
       "      <td>1.790244</td>\n",
       "      <td>0.385366</td>\n",
       "      <td>52.463415</td>\n",
       "      <td>1969.907317</td>\n",
       "      <td>2.919854</td>\n",
       "      <td>0.439024</td>\n",
       "    </tr>\n",
       "    <tr>\n",
       "      <th>std</th>\n",
       "      <td>1122.060667</td>\n",
       "      <td>0.551204</td>\n",
       "      <td>0.487873</td>\n",
       "      <td>16.671711</td>\n",
       "      <td>2.575563</td>\n",
       "      <td>2.959433</td>\n",
       "      <td>0.497483</td>\n",
       "    </tr>\n",
       "    <tr>\n",
       "      <th>min</th>\n",
       "      <td>10.000000</td>\n",
       "      <td>1.000000</td>\n",
       "      <td>0.000000</td>\n",
       "      <td>4.000000</td>\n",
       "      <td>1962.000000</td>\n",
       "      <td>0.100000</td>\n",
       "      <td>0.000000</td>\n",
       "    </tr>\n",
       "    <tr>\n",
       "      <th>25%</th>\n",
       "      <td>1525.000000</td>\n",
       "      <td>1.000000</td>\n",
       "      <td>0.000000</td>\n",
       "      <td>42.000000</td>\n",
       "      <td>1968.000000</td>\n",
       "      <td>0.970000</td>\n",
       "      <td>0.000000</td>\n",
       "    </tr>\n",
       "    <tr>\n",
       "      <th>50%</th>\n",
       "      <td>2005.000000</td>\n",
       "      <td>2.000000</td>\n",
       "      <td>0.000000</td>\n",
       "      <td>54.000000</td>\n",
       "      <td>1970.000000</td>\n",
       "      <td>1.940000</td>\n",
       "      <td>0.000000</td>\n",
       "    </tr>\n",
       "    <tr>\n",
       "      <th>75%</th>\n",
       "      <td>3042.000000</td>\n",
       "      <td>2.000000</td>\n",
       "      <td>1.000000</td>\n",
       "      <td>65.000000</td>\n",
       "      <td>1972.000000</td>\n",
       "      <td>3.560000</td>\n",
       "      <td>1.000000</td>\n",
       "    </tr>\n",
       "    <tr>\n",
       "      <th>max</th>\n",
       "      <td>5565.000000</td>\n",
       "      <td>3.000000</td>\n",
       "      <td>1.000000</td>\n",
       "      <td>95.000000</td>\n",
       "      <td>1977.000000</td>\n",
       "      <td>17.420000</td>\n",
       "      <td>1.000000</td>\n",
       "    </tr>\n",
       "  </tbody>\n",
       "</table>\n",
       "</div>"
      ],
      "text/plain": [
       "              time      status         sex         age         year  \\\n",
       "count   205.000000  205.000000  205.000000  205.000000   205.000000   \n",
       "mean   2152.800000    1.790244    0.385366   52.463415  1969.907317   \n",
       "std    1122.060667    0.551204    0.487873   16.671711     2.575563   \n",
       "min      10.000000    1.000000    0.000000    4.000000  1962.000000   \n",
       "25%    1525.000000    1.000000    0.000000   42.000000  1968.000000   \n",
       "50%    2005.000000    2.000000    0.000000   54.000000  1970.000000   \n",
       "75%    3042.000000    2.000000    1.000000   65.000000  1972.000000   \n",
       "max    5565.000000    3.000000    1.000000   95.000000  1977.000000   \n",
       "\n",
       "        thickness       ulcer  \n",
       "count  205.000000  205.000000  \n",
       "mean     2.919854    0.439024  \n",
       "std      2.959433    0.497483  \n",
       "min      0.100000    0.000000  \n",
       "25%      0.970000    0.000000  \n",
       "50%      1.940000    0.000000  \n",
       "75%      3.560000    1.000000  \n",
       "max     17.420000    1.000000  "
      ]
     },
     "execution_count": 11,
     "metadata": {},
     "output_type": "execute_result"
    }
   ],
   "source": [
    "ml_data.describe()"
   ]
  },
  {
   "cell_type": "code",
   "execution_count": 12,
   "id": "6810a5c3",
   "metadata": {},
   "outputs": [
    {
     "data": {
      "text/html": [
       "<div>\n",
       "<style scoped>\n",
       "    .dataframe tbody tr th:only-of-type {\n",
       "        vertical-align: middle;\n",
       "    }\n",
       "\n",
       "    .dataframe tbody tr th {\n",
       "        vertical-align: top;\n",
       "    }\n",
       "\n",
       "    .dataframe thead th {\n",
       "        text-align: right;\n",
       "    }\n",
       "</style>\n",
       "<table border=\"1\" class=\"dataframe\">\n",
       "  <thead>\n",
       "    <tr style=\"text-align: right;\">\n",
       "      <th></th>\n",
       "      <th>time</th>\n",
       "      <th>status</th>\n",
       "      <th>sex</th>\n",
       "      <th>age</th>\n",
       "      <th>year</th>\n",
       "      <th>thickness</th>\n",
       "      <th>ulcer</th>\n",
       "    </tr>\n",
       "  </thead>\n",
       "  <tbody>\n",
       "    <tr>\n",
       "      <th>time</th>\n",
       "      <td>1.000000</td>\n",
       "      <td>0.316146</td>\n",
       "      <td>-0.146499</td>\n",
       "      <td>-0.301518</td>\n",
       "      <td>-0.485504</td>\n",
       "      <td>-0.235409</td>\n",
       "      <td>-0.264757</td>\n",
       "    </tr>\n",
       "    <tr>\n",
       "      <th>status</th>\n",
       "      <td>0.316146</td>\n",
       "      <td>1.000000</td>\n",
       "      <td>-0.098967</td>\n",
       "      <td>0.015964</td>\n",
       "      <td>0.138167</td>\n",
       "      <td>-0.204722</td>\n",
       "      <td>-0.270326</td>\n",
       "    </tr>\n",
       "    <tr>\n",
       "      <th>sex</th>\n",
       "      <td>-0.146499</td>\n",
       "      <td>-0.098967</td>\n",
       "      <td>1.000000</td>\n",
       "      <td>0.068337</td>\n",
       "      <td>-0.002645</td>\n",
       "      <td>0.185413</td>\n",
       "      <td>0.167979</td>\n",
       "    </tr>\n",
       "    <tr>\n",
       "      <th>age</th>\n",
       "      <td>-0.301518</td>\n",
       "      <td>0.015964</td>\n",
       "      <td>0.068337</td>\n",
       "      <td>1.000000</td>\n",
       "      <td>0.188229</td>\n",
       "      <td>0.212480</td>\n",
       "      <td>0.126063</td>\n",
       "    </tr>\n",
       "    <tr>\n",
       "      <th>year</th>\n",
       "      <td>-0.485504</td>\n",
       "      <td>0.138167</td>\n",
       "      <td>-0.002645</td>\n",
       "      <td>0.188229</td>\n",
       "      <td>1.000000</td>\n",
       "      <td>-0.133345</td>\n",
       "      <td>-0.033126</td>\n",
       "    </tr>\n",
       "    <tr>\n",
       "      <th>thickness</th>\n",
       "      <td>-0.235409</td>\n",
       "      <td>-0.204722</td>\n",
       "      <td>0.185413</td>\n",
       "      <td>0.212480</td>\n",
       "      <td>-0.133345</td>\n",
       "      <td>1.000000</td>\n",
       "      <td>0.424459</td>\n",
       "    </tr>\n",
       "    <tr>\n",
       "      <th>ulcer</th>\n",
       "      <td>-0.264757</td>\n",
       "      <td>-0.270326</td>\n",
       "      <td>0.167979</td>\n",
       "      <td>0.126063</td>\n",
       "      <td>-0.033126</td>\n",
       "      <td>0.424459</td>\n",
       "      <td>1.000000</td>\n",
       "    </tr>\n",
       "  </tbody>\n",
       "</table>\n",
       "</div>"
      ],
      "text/plain": [
       "               time    status       sex       age      year  thickness  \\\n",
       "time       1.000000  0.316146 -0.146499 -0.301518 -0.485504  -0.235409   \n",
       "status     0.316146  1.000000 -0.098967  0.015964  0.138167  -0.204722   \n",
       "sex       -0.146499 -0.098967  1.000000  0.068337 -0.002645   0.185413   \n",
       "age       -0.301518  0.015964  0.068337  1.000000  0.188229   0.212480   \n",
       "year      -0.485504  0.138167 -0.002645  0.188229  1.000000  -0.133345   \n",
       "thickness -0.235409 -0.204722  0.185413  0.212480 -0.133345   1.000000   \n",
       "ulcer     -0.264757 -0.270326  0.167979  0.126063 -0.033126   0.424459   \n",
       "\n",
       "              ulcer  \n",
       "time      -0.264757  \n",
       "status    -0.270326  \n",
       "sex        0.167979  \n",
       "age        0.126063  \n",
       "year      -0.033126  \n",
       "thickness  0.424459  \n",
       "ulcer      1.000000  "
      ]
     },
     "execution_count": 12,
     "metadata": {},
     "output_type": "execute_result"
    }
   ],
   "source": [
    "ml_data.corr()"
   ]
  },
  {
   "cell_type": "markdown",
   "id": "c6ae6977",
   "metadata": {},
   "source": [
    "<h4>POSITIVE CORRELATION</h4>\n",
    "\n",
    "- From 0 - 0.4 (Weak Positive Correlation)\n",
    "\n",
    "- From >0.4 - 0.7(Moderate Positive correlation)\n",
    "\n",
    "- From >0.7 - 1(Strong Positive correlation)\n",
    "\n",
    "<h4>NEGATIVE CORRELATION</h4>\n",
    "\n",
    "- From 0 tO -0.4 (Weak Negative Correlation)\n",
    "\n",
    "- From >-0.4 to -0.7(Moderate Negative correlation)\n",
    "\n",
    "- From >-0.7 to -1(Strong Negative correlation)"
   ]
  },
  {
   "cell_type": "markdown",
   "id": "61e6a31b",
   "metadata": {},
   "source": [
    "<h3> DATA VISUALIZATION </h3>"
   ]
  },
  {
   "cell_type": "markdown",
   "id": "b93ebce4",
   "metadata": {},
   "source": [
    "histogram <br>\n",
    "bar <br>\n",
    "scatter <br>\n",
    "boxplot <br>"
   ]
  },
  {
   "cell_type": "code",
   "execution_count": 18,
   "id": "5316b381",
   "metadata": {},
   "outputs": [
    {
     "data": {
      "image/png": "[encoded data removed]",
      "text/plain": [
       "<Figure size 432x288 with 1 Axes>"
      ]
     },
     "metadata": {
      "needs_background": "light"
     },
     "output_type": "display_data"
    }
   ],
   "source": [
    "plt.hist(ml_data[\"time\"], color=\"Red\")\n",
    "plt.show()"
   ]
  },
  {
   "cell_type": "code",
   "execution_count": 19,
   "id": "cf8bb7e9",
   "metadata": {},
   "outputs": [
    {
     "data": {
      "image/png": "[encoded data removed]",
      "text/plain": [
       "<Figure size 432x288 with 1 Axes>"
      ]
     },
     "metadata": {
      "needs_background": "light"
     },
     "output_type": "display_data"
    }
   ],
   "source": [
    "plt.hist(ml_data[\"age\"], color=\"Orange\")\n",
    "plt.show()"
   ]
  },
  {
   "cell_type": "code",
   "execution_count": 23,
   "id": "7c377dc6",
   "metadata": {},
   "outputs": [
    {
     "data": {
      "image/png": "[encoded data removed]",
      "text/plain": [
       "<Figure size 432x288 with 1 Axes>"
      ]
     },
     "metadata": {
      "needs_background": "light"
     },
     "output_type": "display_data"
    }
   ],
   "source": [
    "plt.hist(ml_data[\"thickness\"], color=\"Indigo\")\n",
    "plt.show()"
   ]
  },
  {
   "cell_type": "code",
   "execution_count": 34,
   "id": "5cca339d",
   "metadata": {},
   "outputs": [
    {
     "data": {
      "image/png": "[encoded data removed]",
      "text/plain": [
       "<Figure size 720x144 with 3 Axes>"
      ]
     },
     "metadata": {
      "needs_background": "light"
     },
     "output_type": "display_data"
    }
   ],
   "source": [
    "fig, axes = plt.subplots(1, 3, figsize = (10,2))\n",
    "\n",
    "counter = 0\n",
    "# loop = range(len(axes)) \n",
    "loop = range(3)\n",
    "\n",
    "for i in loop:\n",
    "    axes[i].hist(ml_data.iloc[:,counter], color=\"purple\")\n",
    "    title = ml_data.iloc[:,counter].name.capitalize() + \" distribution\"\n",
    "    axes[i].set_title(title)\n",
    "    counter += 1\n",
    "\n",
    "plt.show()"
   ]
  },
  {
   "cell_type": "code",
   "execution_count": 35,
   "id": "f8d09246",
   "metadata": {},
   "outputs": [],
   "source": [
    "letters  = [\"a\", \"b\", \"c\", \"d\"]"
   ]
  },
  {
   "cell_type": "code",
   "execution_count": 37,
   "id": "97c0bcd0",
   "metadata": {},
   "outputs": [
    {
     "data": {
      "text/plain": [
       "['a', 'b', 'c', 'd']"
      ]
     },
     "execution_count": 37,
     "metadata": {},
     "output_type": "execute_result"
    }
   ],
   "source": [
    "var = letters[:]\n",
    "var"
   ]
  },
  {
   "cell_type": "code",
   "execution_count": 39,
   "id": "894bed1f",
   "metadata": {},
   "outputs": [
    {
     "data": {
      "text/plain": [
       "0     10\n",
       "1     30\n",
       "2     35\n",
       "3     99\n",
       "4    185\n",
       "Name: time, dtype: int64"
      ]
     },
     "execution_count": 39,
     "metadata": {},
     "output_type": "execute_result"
    }
   ],
   "source": [
    "ml_data[\"time\"].head()"
   ]
  },
  {
   "cell_type": "code",
   "execution_count": 45,
   "id": "1d42c944",
   "metadata": {},
   "outputs": [
    {
     "data": {
      "text/plain": [
       "'time'"
      ]
     },
     "execution_count": 45,
     "metadata": {},
     "output_type": "execute_result"
    }
   ],
   "source": [
    "ml_data.iloc[:,0].name"
   ]
  },
  {
   "cell_type": "code",
   "execution_count": 49,
   "id": "0ccbcce0",
   "metadata": {},
   "outputs": [
    {
     "data": {
      "text/html": [
       "<div>\n",
       "<style scoped>\n",
       "    .dataframe tbody tr th:only-of-type {\n",
       "        vertical-align: middle;\n",
       "    }\n",
       "\n",
       "    .dataframe tbody tr th {\n",
       "        vertical-align: top;\n",
       "    }\n",
       "\n",
       "    .dataframe thead th {\n",
       "        text-align: right;\n",
       "    }\n",
       "</style>\n",
       "<table border=\"1\" class=\"dataframe\">\n",
       "  <thead>\n",
       "    <tr style=\"text-align: right;\">\n",
       "      <th></th>\n",
       "      <th>time</th>\n",
       "      <th>age</th>\n",
       "      <th>thickness</th>\n",
       "    </tr>\n",
       "  </thead>\n",
       "  <tbody>\n",
       "    <tr>\n",
       "      <th>0</th>\n",
       "      <td>10</td>\n",
       "      <td>76</td>\n",
       "      <td>6.76</td>\n",
       "    </tr>\n",
       "    <tr>\n",
       "      <th>1</th>\n",
       "      <td>30</td>\n",
       "      <td>56</td>\n",
       "      <td>0.65</td>\n",
       "    </tr>\n",
       "    <tr>\n",
       "      <th>2</th>\n",
       "      <td>35</td>\n",
       "      <td>41</td>\n",
       "      <td>1.34</td>\n",
       "    </tr>\n",
       "    <tr>\n",
       "      <th>3</th>\n",
       "      <td>99</td>\n",
       "      <td>71</td>\n",
       "      <td>2.90</td>\n",
       "    </tr>\n",
       "    <tr>\n",
       "      <th>4</th>\n",
       "      <td>185</td>\n",
       "      <td>52</td>\n",
       "      <td>12.08</td>\n",
       "    </tr>\n",
       "  </tbody>\n",
       "</table>\n",
       "</div>"
      ],
      "text/plain": [
       "   time  age  thickness\n",
       "0    10   76       6.76\n",
       "1    30   56       0.65\n",
       "2    35   41       1.34\n",
       "3    99   71       2.90\n",
       "4   185   52      12.08"
      ]
     },
     "execution_count": 49,
     "metadata": {},
     "output_type": "execute_result"
    }
   ],
   "source": [
    "ml_data1 = ml_data[[\"time\", \"age\", \"thickness\"]]\n",
    "ml_data1.head()"
   ]
  },
  {
   "cell_type": "code",
   "execution_count": 54,
   "id": "76140311",
   "metadata": {},
   "outputs": [
    {
     "data": {
      "image/png": "[encoded data removed]",
      "text/plain": [
       "<Figure size 720x144 with 3 Axes>"
      ]
     },
     "metadata": {
      "needs_background": "light"
     },
     "output_type": "display_data"
    }
   ],
   "source": [
    "fig, axes = plt.subplots(1, 3, figsize = (10,2))\n",
    "\n",
    "counter = 0\n",
    "# loop = range(len(axes)) \n",
    "loop = range(3)\n",
    "\n",
    "for i in loop:\n",
    "    axes[i].hist(ml_data1.iloc[:,counter], color=\"purple\")\n",
    "    title = ml_data1.iloc[:,counter].name.capitalize() + \" distribution\"\n",
    "    axes[i].set_title(title)\n",
    "    counter += 1\n",
    "\n",
    "plt.show()"
   ]
  },
  {
   "cell_type": "code",
   "execution_count": 57,
   "id": "af54c83c",
   "metadata": {},
   "outputs": [
    {
     "data": {
      "image/png": "[encoded data removed]",
      "text/plain": [
       "<Figure size 720x288 with 3 Axes>"
      ]
     },
     "metadata": {
      "needs_background": "light"
     },
     "output_type": "display_data"
    }
   ],
   "source": [
    "fig, axes = plt.subplots(1, 3, figsize = (10,4))\n",
    "\n",
    "counter = 0\n",
    "# loop = range(len(axes)) \n",
    "loop = range(3)\n",
    "\n",
    "for i in loop:\n",
    "    axes[i].boxplot(ml_data1.iloc[:,counter])\n",
    "    title = ml_data1.iloc[:,counter].name.capitalize() + \" distribution\"\n",
    "    axes[i].set_xticklabels([title])\n",
    "    counter += 1\n",
    "\n",
    "plt.show()"
   ]
  },
  {
   "cell_type": "code",
   "execution_count": 61,
   "id": "03bf0e58",
   "metadata": {},
   "outputs": [
    {
     "data": {
      "image/png": "[encoded data removed]",
      "text/plain": [
       "<Figure size 432x288 with 1 Axes>"
      ]
     },
     "metadata": {
      "needs_background": "light"
     },
     "output_type": "display_data"
    }
   ],
   "source": [
    "plt.scatter(ml_data1[\"time\"], ml_data1[\"age\"])\n",
    "plt.show()"
   ]
  },
  {
   "cell_type": "code",
   "execution_count": 62,
   "id": "79f30eba",
   "metadata": {},
   "outputs": [
    {
     "data": {
      "image/png": "[encoded data removed]",
      "text/plain": [
       "<Figure size 432x288 with 1 Axes>"
      ]
     },
     "metadata": {
      "needs_background": "light"
     },
     "output_type": "display_data"
    }
   ],
   "source": [
    "plt.scatter(ml_data1[\"time\"], ml_data1[\"thickness\"])\n",
    "plt.show()"
   ]
  },
  {
   "cell_type": "code",
   "execution_count": 63,
   "id": "4852dd1b",
   "metadata": {},
   "outputs": [
    {
     "data": {
      "image/png": "[encoded data removed]",
      "text/plain": [
       "<Figure size 432x288 with 1 Axes>"
      ]
     },
     "metadata": {
      "needs_background": "light"
     },
     "output_type": "display_data"
    }
   ],
   "source": [
    "plt.scatter(ml_data1[\"thickness\"], ml_data1[\"age\"])\n",
    "plt.show()"
   ]
  },
  {
   "cell_type": "markdown",
   "id": "12a3ec70",
   "metadata": {},
   "source": [
    "<h3> MODEL DEVELOPMENT </h3>"
   ]
  },
  {
   "cell_type": "code",
   "execution_count": 64,
   "id": "688c45f2",
   "metadata": {},
   "outputs": [],
   "source": [
    "from sklearn.linear_model import LinearRegression\n",
    "from sklearn.model_selection import train_test_split"
   ]
  },
  {
   "cell_type": "markdown",
   "id": "a76091a3",
   "metadata": {},
   "source": [
    "<h4>TIME & THICKNESS</h4>"
   ]
  },
  {
   "cell_type": "code",
   "execution_count": 92,
   "id": "8e0c9286",
   "metadata": {},
   "outputs": [],
   "source": [
    "X = ml_data[\"thickness\"].values.reshape(-1, 1)\n",
    "Y = ml_data[\"time\"].values\n",
    "lm1 = LinearRegression()\n",
    "\n",
    "X_train, X_test, Y_train, Y_test = train_test_split(X, Y, test_size=0.3, random_state=42)\n"
   ]
  },
  {
   "cell_type": "code",
   "execution_count": 93,
   "id": "c5e6f939",
   "metadata": {},
   "outputs": [
    {
     "data": {
      "text/plain": [
       "LinearRegression()"
      ]
     },
     "execution_count": 93,
     "metadata": {},
     "output_type": "execute_result"
    }
   ],
   "source": [
    "lm1.fit(X_train, Y_train)"
   ]
  },
  {
   "cell_type": "code",
   "execution_count": 94,
   "id": "f6153392",
   "metadata": {},
   "outputs": [
    {
     "data": {
      "text/plain": [
       "array([-65.66213642])"
      ]
     },
     "execution_count": 94,
     "metadata": {},
     "output_type": "execute_result"
    }
   ],
   "source": [
    "# y = mx + c\n",
    "lm1.coef_"
   ]
  },
  {
   "cell_type": "code",
   "execution_count": 95,
   "id": "7ec7b25e",
   "metadata": {},
   "outputs": [
    {
     "data": {
      "text/plain": [
       "2360.101642116009"
      ]
     },
     "execution_count": 95,
     "metadata": {},
     "output_type": "execute_result"
    }
   ],
   "source": [
    "lm1.intercept_"
   ]
  },
  {
   "cell_type": "markdown",
   "id": "843e45fd",
   "metadata": {},
   "source": [
    "time = -65.66thickness + 2360.10"
   ]
  },
  {
   "cell_type": "markdown",
   "id": "acfd9b27",
   "metadata": {},
   "source": [
    "<h4>TIME & AGE </h4>"
   ]
  },
  {
   "cell_type": "code",
   "execution_count": 96,
   "id": "2ce5428f",
   "metadata": {},
   "outputs": [],
   "source": [
    "X = ml_data[\"age\"].values.reshape(-1, 1)\n",
    "Y = ml_data[\"time\"].values\n",
    "lm2 = LinearRegression()\n",
    "\n",
    "X_train, X_test, Y_train, Y_test = train_test_split(X, Y, test_size=0.3, random_state=42)\n"
   ]
  },
  {
   "cell_type": "code",
   "execution_count": 97,
   "id": "2bfd3180",
   "metadata": {},
   "outputs": [
    {
     "data": {
      "text/plain": [
       "LinearRegression()"
      ]
     },
     "execution_count": 97,
     "metadata": {},
     "output_type": "execute_result"
    }
   ],
   "source": [
    "lm2.fit(X_train, Y_train)"
   ]
  },
  {
   "cell_type": "code",
   "execution_count": 98,
   "id": "24f46a80",
   "metadata": {},
   "outputs": [
    {
     "data": {
      "text/plain": [
       "array([-20.87032159])"
      ]
     },
     "execution_count": 98,
     "metadata": {},
     "output_type": "execute_result"
    }
   ],
   "source": [
    "# y = mx + c\n",
    "lm2.coef_"
   ]
  },
  {
   "cell_type": "code",
   "execution_count": 99,
   "id": "968a2ae6",
   "metadata": {},
   "outputs": [
    {
     "data": {
      "text/plain": [
       "3265.8776145693464"
      ]
     },
     "execution_count": 99,
     "metadata": {},
     "output_type": "execute_result"
    }
   ],
   "source": [
    "lm2.intercept_"
   ]
  },
  {
   "cell_type": "markdown",
   "id": "2cf00e4d",
   "metadata": {},
   "source": [
    "time = -20.87age + 3265.88"
   ]
  },
  {
   "cell_type": "markdown",
   "id": "61b30c96",
   "metadata": {},
   "source": [
    "<h4>THICKNESS & AGE </h4>"
   ]
  },
  {
   "cell_type": "code",
   "execution_count": 100,
   "id": "1e15e2bc",
   "metadata": {},
   "outputs": [],
   "source": [
    "X = ml_data[\"age\"].values.reshape(-1, 1)\n",
    "Y = ml_data[\"thickness\"].values\n",
    "lm3 = LinearRegression()\n",
    "\n",
    "X_train, X_test, Y_train, Y_test = train_test_split(X, Y, test_size=0.3, random_state=42)\n"
   ]
  },
  {
   "cell_type": "code",
   "execution_count": 101,
   "id": "cb3b189e",
   "metadata": {},
   "outputs": [
    {
     "data": {
      "text/plain": [
       "LinearRegression()"
      ]
     },
     "execution_count": 101,
     "metadata": {},
     "output_type": "execute_result"
    }
   ],
   "source": [
    "lm3.fit(X_train, Y_train)"
   ]
  },
  {
   "cell_type": "code",
   "execution_count": 102,
   "id": "bcac54a4",
   "metadata": {},
   "outputs": [
    {
     "data": {
      "text/plain": [
       "array([0.0363732])"
      ]
     },
     "execution_count": 102,
     "metadata": {},
     "output_type": "execute_result"
    }
   ],
   "source": [
    "# y = mx + c\n",
    "lm3.coef_"
   ]
  },
  {
   "cell_type": "code",
   "execution_count": 103,
   "id": "9e40b197",
   "metadata": {},
   "outputs": [
    {
     "data": {
      "text/plain": [
       "1.194322404843268"
      ]
     },
     "execution_count": 103,
     "metadata": {},
     "output_type": "execute_result"
    }
   ],
   "source": [
    "lm3.intercept_"
   ]
  },
  {
   "cell_type": "markdown",
   "id": "641ad2ac",
   "metadata": {},
   "source": [
    "thickness = 0.04age + 1.19"
   ]
  },
  {
   "cell_type": "code",
   "execution_count": 104,
   "id": "4a5083fb",
   "metadata": {},
   "outputs": [],
   "source": [
    "predictions = lm3.predict(X_test)"
   ]
  },
  {
   "cell_type": "code",
   "execution_count": 105,
   "id": "151fc541",
   "metadata": {},
   "outputs": [
    {
     "data": {
      "text/plain": [
       "array([3.8131926 , 3.66769981, 3.37671423, 3.70407301, 2.79474308,\n",
       "       3.99505858, 2.97660906, 3.52220702, 3.30396784, 2.72199668,\n",
       "       2.90386267, 3.30396784, 3.30396784, 3.01298226, 1.73992036,\n",
       "       3.41308743, 4.64977613, 2.79474308, 3.55858022, 2.79474308,\n",
       "       2.75836988, 4.24967096, 2.43101111, 3.55858022, 3.63132661,\n",
       "       2.86748947, 2.32189152, 2.28551832, 2.86748947, 3.08572866,\n",
       "       3.63132661, 2.83111628, 2.24914512, 2.72199668, 2.68562349,\n",
       "       3.34034104, 2.72199668, 3.26759464, 3.84956579, 2.64925029,\n",
       "       2.06727914, 1.92178635, 3.08572866, 3.15847505, 2.4673843 ,\n",
       "       3.23122144, 3.66769981, 2.83111628, 3.19484825, 2.72199668,\n",
       "       3.15847505, 2.24914512, 3.19484825, 1.33981519, 3.37671423,\n",
       "       2.21277192, 3.41308743, 2.83111628, 3.37671423, 3.15847505,\n",
       "       2.32189152, 3.92231219])"
      ]
     },
     "execution_count": 105,
     "metadata": {},
     "output_type": "execute_result"
    }
   ],
   "source": [
    "predictions"
   ]
  },
  {
   "cell_type": "code",
   "execution_count": 109,
   "id": "4259e005",
   "metadata": {},
   "outputs": [
    {
     "data": {
      "image/png": "[encoded data removed]",
      "text/plain": [
       "<Figure size 432x288 with 1 Axes>"
      ]
     },
     "metadata": {
      "needs_background": "light"
     },
     "output_type": "display_data"
    }
   ],
   "source": [
    "plt.scatter(ml_data[\"age\"], ml_data[\"thickness\"])\n",
    "plt.plot(predictions, color = \"r\")\n",
    "plt.show()"
   ]
  },
  {
   "cell_type": "markdown",
   "id": "7c8d4d79",
   "metadata": {},
   "source": [
    "<h3> MODEL EVALUATION </h3>"
   ]
  },
  {
   "cell_type": "markdown",
   "id": "6085dbdc",
   "metadata": {},
   "source": [
    "mean_square_error\n",
    "r_squared\n"
   ]
  },
  {
   "cell_type": "code",
   "execution_count": 111,
   "id": "6e69f2be",
   "metadata": {},
   "outputs": [
    {
     "data": {
      "text/plain": [
       "0.0029447695607270896"
      ]
     },
     "execution_count": 111,
     "metadata": {},
     "output_type": "execute_result"
    }
   ],
   "source": [
    "r_squared = lm3.score(X_test,Y_test)\n",
    "r_squared"
   ]
  },
  {
   "cell_type": "markdown",
   "id": "96234370",
   "metadata": {},
   "source": [
    "r_squared is 0.294%. Based on this the performance of the model is extremely poor."
   ]
  },
  {
   "cell_type": "code",
   "execution_count": 113,
   "id": "61c5d32b",
   "metadata": {},
   "outputs": [
    {
     "data": {
      "text/plain": [
       "2.245553043505667"
      ]
     },
     "execution_count": 113,
     "metadata": {},
     "output_type": "execute_result"
    }
   ],
   "source": [
    "from sklearn.metrics import mean_squared_error\n",
    "mse = mean_squared_error(Y_test, predictions, squared=False)\n",
    "mse"
   ]
  },
  {
   "cell_type": "markdown",
   "id": "35576563",
   "metadata": {},
   "source": [
    "Based on the result the model performed poorly"
   ]
  },
  {
   "cell_type": "code",
   "execution_count": null,
   "id": "1868f992",
   "metadata": {},
   "outputs": [],
   "source": []
  }
 ],
 "metadata": {
  "kernelspec": {
   "display_name": "Python 3 (ipykernel)",
   "language": "python",
   "name": "python3"
  },
  "language_info": {
   "codemirror_mode": {
    "name": "ipython",
    "version": 3
   },
   "file_extension": ".py",
   "mimetype": "text/x-python",
   "name": "python",
   "nbconvert_exporter": "python",
   "pygments_lexer": "ipython3",
   "version": "3.9.12"
  }
 },
 "nbformat": 4,
 "nbformat_minor": 5
}
